{
 "cells": [
  {
   "cell_type": "code",
   "execution_count": 277,
   "metadata": {},
   "outputs": [
    {
     "data": {
      "text/html": [
       "<style>.container { width:100% !important; }</style>"
      ],
      "text/plain": [
       "<IPython.core.display.HTML object>"
      ]
     },
     "metadata": {},
     "output_type": "display_data"
    }
   ],
   "source": [
    "from IPython.core.display import display, HTML\n",
    "display(HTML(\"<style>.container { width:100% !important; }</style>\"))"
   ]
  },
  {
   "cell_type": "markdown",
   "metadata": {
    "collapsed": true
   },
   "source": [
    "# MARATONA BEHIND THE CODE 2020\n",
    "\n",
    "## DESAFIO 2: PARTE 1"
   ]
  },
  {
   "cell_type": "markdown",
   "metadata": {},
   "source": [
    "### Introdução"
   ]
  },
  {
   "cell_type": "markdown",
   "metadata": {},
   "source": [
    "Em projetos de ciência de dados visando a construção de modelos de *machine learning*, ou aprendizado estatístico, é muito incomum que os dados iniciais estejam já no formato ideal para a construção de modelos. São necessários vários passos intermediários de pré-processamento de dados, como por exemplo a codificação de variáveis categóricas, normalização de variáveis numéricas, tratamento de dados faltantes, etc. A biblioteca **scikit-learn** -- uma das mais populares bibliotecas de código-aberto para *machine learning* no mundo -- possui diversas funções já integradas para a realização das transformações de dados mais utilizadas. Entretanto, em um fluxo comum de um modelo de aprendizado de máquina, é necessária a aplicação dessas transformações pelo menos duas vezes: a primeira vez para \"treinar\" o modelo, e depois novamente quando novos dados forem enviados como entrada para serem classificados por este modelo. \n",
    "\n",
    "Para facilitar o trabalho com esse tipo de fluxo, o scikit-learn possui também uma ferramenta chamada **Pipeline**, que nada mais é do que uma lista ordenada de transformações que devem ser aplicadas nos dados. Para auxiliar no desenvolvimento e no gerenciamento de todo o ciclo-de-vida dessas aplicações, alem do uso de Pipelines, as equipes de cientistas de dados podem utilizar em conjunto o **Watson Machine Learning**, que possui dezenas de ferramentas para treinar, gerenciar, hospedar e avaliar modelos baseados em aprendizado de máquina. Além disso, o Watson Machine Learning é capaz de encapsular pipelines e modelos em uma API pronta para uso e integração com outras aplicações.\n",
    "\n",
    "Durante o desafio 2, você participante irá aprender a construir uma **Pipeline** para um modelo de classificação e hospedá-lo como uma API com o auxílio do Watson Machine Learning. Uma vez hospedado, você poderá integrar o modelo criado com outras aplicações, como assistentes virtuais e muito mais. Neste notebook, será apresentado um exemplo funcional de criação de um modelo e de uma pipeline no scikit-learn (que você poderá utilizar como template para a sua solução!)."
   ]
  },
  {
   "cell_type": "markdown",
   "metadata": {},
   "source": [
    "### Trabalhando com Pipelines do scikit-learn"
   ]
  },
  {
   "cell_type": "code",
   "execution_count": 276,
   "metadata": {
    "pycharm": {
     "is_executing": false
    }
   },
   "outputs": [
    {
     "name": "stdout",
     "output_type": "stream",
     "text": [
      "Requirement already satisfied: appnope==0.1.0 in /Users/alexandre/Projects/btc-2020/env-btc/lib/python3.7/site-packages (from -r ../../requirements.txt (line 1)) (0.1.0)\n",
      "Requirement already satisfied: argon2-cffi==20.1.0 in /Users/alexandre/Projects/btc-2020/env-btc/lib/python3.7/site-packages (from -r ../../requirements.txt (line 2)) (20.1.0)\n",
      "Requirement already satisfied: attrs==19.3.0 in /Users/alexandre/Projects/btc-2020/env-btc/lib/python3.7/site-packages (from -r ../../requirements.txt (line 3)) (19.3.0)\n",
      "Requirement already satisfied: backcall==0.2.0 in /Users/alexandre/Projects/btc-2020/env-btc/lib/python3.7/site-packages (from -r ../../requirements.txt (line 4)) (0.2.0)\n",
      "Requirement already satisfied: bleach==3.1.5 in /Users/alexandre/Projects/btc-2020/env-btc/lib/python3.7/site-packages (from -r ../../requirements.txt (line 5)) (3.1.5)\n",
      "Requirement already satisfied: certifi==2020.6.20 in /Users/alexandre/Projects/btc-2020/env-btc/lib/python3.7/site-packages (from -r ../../requirements.txt (line 6)) (2020.6.20)\n",
      "Requirement already satisfied: cffi==1.14.2 in /Users/alexandre/Projects/btc-2020/env-btc/lib/python3.7/site-packages (from -r ../../requirements.txt (line 7)) (1.14.2)\n",
      "Requirement already satisfied: chardet==3.0.4 in /Users/alexandre/Projects/btc-2020/env-btc/lib/python3.7/site-packages (from -r ../../requirements.txt (line 8)) (3.0.4)\n",
      "Requirement already satisfied: cycler==0.10.0 in /Users/alexandre/Projects/btc-2020/env-btc/lib/python3.7/site-packages (from -r ../../requirements.txt (line 9)) (0.10.0)\n",
      "Requirement already satisfied: decorator==4.4.2 in /Users/alexandre/Projects/btc-2020/env-btc/lib/python3.7/site-packages (from -r ../../requirements.txt (line 10)) (4.4.2)\n",
      "Requirement already satisfied: defusedxml==0.6.0 in /Users/alexandre/Projects/btc-2020/env-btc/lib/python3.7/site-packages (from -r ../../requirements.txt (line 11)) (0.6.0)\n",
      "Requirement already satisfied: entrypoints==0.3 in /Users/alexandre/Projects/btc-2020/env-btc/lib/python3.7/site-packages (from -r ../../requirements.txt (line 12)) (0.3)\n",
      "Requirement already satisfied: idna==2.10 in /Users/alexandre/Projects/btc-2020/env-btc/lib/python3.7/site-packages (from -r ../../requirements.txt (line 13)) (2.10)\n",
      "Requirement already satisfied: importlib-metadata==1.7.0 in /Users/alexandre/Projects/btc-2020/env-btc/lib/python3.7/site-packages (from -r ../../requirements.txt (line 14)) (1.7.0)\n",
      "Requirement already satisfied: ipykernel==5.3.4 in /Users/alexandre/Projects/btc-2020/env-btc/lib/python3.7/site-packages (from -r ../../requirements.txt (line 15)) (5.3.4)\n",
      "Requirement already satisfied: ipython==7.17.0 in /Users/alexandre/Projects/btc-2020/env-btc/lib/python3.7/site-packages (from -r ../../requirements.txt (line 16)) (7.17.0)\n",
      "Requirement already satisfied: ipython-genutils==0.2.0 in /Users/alexandre/Projects/btc-2020/env-btc/lib/python3.7/site-packages (from -r ../../requirements.txt (line 17)) (0.2.0)\n",
      "Requirement already satisfied: ipywidgets==7.5.1 in /Users/alexandre/Projects/btc-2020/env-btc/lib/python3.7/site-packages (from -r ../../requirements.txt (line 18)) (7.5.1)\n",
      "Requirement already satisfied: jedi==0.17.2 in /Users/alexandre/Projects/btc-2020/env-btc/lib/python3.7/site-packages (from -r ../../requirements.txt (line 19)) (0.17.2)\n",
      "Requirement already satisfied: Jinja2==2.11.2 in /Users/alexandre/Projects/btc-2020/env-btc/lib/python3.7/site-packages (from -r ../../requirements.txt (line 20)) (2.11.2)\n",
      "Requirement already satisfied: jsonschema==3.2.0 in /Users/alexandre/Projects/btc-2020/env-btc/lib/python3.7/site-packages (from -r ../../requirements.txt (line 21)) (3.2.0)\n",
      "Requirement already satisfied: jupyter==1.0.0 in /Users/alexandre/Projects/btc-2020/env-btc/lib/python3.7/site-packages (from -r ../../requirements.txt (line 22)) (1.0.0)\n",
      "Requirement already satisfied: jupyter-client==6.1.6 in /Users/alexandre/Projects/btc-2020/env-btc/lib/python3.7/site-packages (from -r ../../requirements.txt (line 23)) (6.1.6)\n",
      "Requirement already satisfied: jupyter-console==6.1.0 in /Users/alexandre/Projects/btc-2020/env-btc/lib/python3.7/site-packages (from -r ../../requirements.txt (line 24)) (6.1.0)\n",
      "Requirement already satisfied: jupyter-core==4.6.3 in /Users/alexandre/Projects/btc-2020/env-btc/lib/python3.7/site-packages (from -r ../../requirements.txt (line 25)) (4.6.3)\n",
      "Requirement already satisfied: kiwisolver==1.2.0 in /Users/alexandre/Projects/btc-2020/env-btc/lib/python3.7/site-packages (from -r ../../requirements.txt (line 26)) (1.2.0)\n",
      "Requirement already satisfied: MarkupSafe==1.1.1 in /Users/alexandre/Projects/btc-2020/env-btc/lib/python3.7/site-packages (from -r ../../requirements.txt (line 27)) (1.1.1)\n",
      "Requirement already satisfied: matplotlib==3.3.1 in /Users/alexandre/Projects/btc-2020/env-btc/lib/python3.7/site-packages (from -r ../../requirements.txt (line 28)) (3.3.1)\n",
      "Requirement already satisfied: mistune==0.8.4 in /Users/alexandre/Projects/btc-2020/env-btc/lib/python3.7/site-packages (from -r ../../requirements.txt (line 29)) (0.8.4)\n",
      "Requirement already satisfied: nbconvert==5.6.1 in /Users/alexandre/Projects/btc-2020/env-btc/lib/python3.7/site-packages (from -r ../../requirements.txt (line 30)) (5.6.1)\n",
      "Requirement already satisfied: nbformat==5.0.7 in /Users/alexandre/Projects/btc-2020/env-btc/lib/python3.7/site-packages (from -r ../../requirements.txt (line 31)) (5.0.7)\n",
      "Requirement already satisfied: notebook==6.1.3 in /Users/alexandre/Projects/btc-2020/env-btc/lib/python3.7/site-packages (from -r ../../requirements.txt (line 32)) (6.1.3)\n",
      "Requirement already satisfied: numpy==1.19.1 in /Users/alexandre/Projects/btc-2020/env-btc/lib/python3.7/site-packages (from -r ../../requirements.txt (line 33)) (1.19.1)\n",
      "Requirement already satisfied: packaging==20.4 in /Users/alexandre/Projects/btc-2020/env-btc/lib/python3.7/site-packages (from -r ../../requirements.txt (line 34)) (20.4)\n",
      "Requirement already satisfied: pandas==1.1.0 in /Users/alexandre/Projects/btc-2020/env-btc/lib/python3.7/site-packages (from -r ../../requirements.txt (line 35)) (1.1.0)\n",
      "Requirement already satisfied: pandocfilters==1.4.2 in /Users/alexandre/Projects/btc-2020/env-btc/lib/python3.7/site-packages (from -r ../../requirements.txt (line 36)) (1.4.2)\n",
      "Requirement already satisfied: parso==0.7.1 in /Users/alexandre/Projects/btc-2020/env-btc/lib/python3.7/site-packages (from -r ../../requirements.txt (line 37)) (0.7.1)\n",
      "Requirement already satisfied: pexpect==4.8.0 in /Users/alexandre/Projects/btc-2020/env-btc/lib/python3.7/site-packages (from -r ../../requirements.txt (line 38)) (4.8.0)\n",
      "Requirement already satisfied: pickleshare==0.7.5 in /Users/alexandre/Projects/btc-2020/env-btc/lib/python3.7/site-packages (from -r ../../requirements.txt (line 39)) (0.7.5)\n",
      "Requirement already satisfied: Pillow==7.2.0 in /Users/alexandre/Projects/btc-2020/env-btc/lib/python3.7/site-packages (from -r ../../requirements.txt (line 40)) (7.2.0)\n",
      "Requirement already satisfied: prometheus-client==0.8.0 in /Users/alexandre/Projects/btc-2020/env-btc/lib/python3.7/site-packages (from -r ../../requirements.txt (line 41)) (0.8.0)\n",
      "Requirement already satisfied: prompt-toolkit==3.0.6 in /Users/alexandre/Projects/btc-2020/env-btc/lib/python3.7/site-packages (from -r ../../requirements.txt (line 42)) (3.0.6)\n",
      "Requirement already satisfied: ptyprocess==0.6.0 in /Users/alexandre/Projects/btc-2020/env-btc/lib/python3.7/site-packages (from -r ../../requirements.txt (line 43)) (0.6.0)\n",
      "Requirement already satisfied: pycparser==2.20 in /Users/alexandre/Projects/btc-2020/env-btc/lib/python3.7/site-packages (from -r ../../requirements.txt (line 44)) (2.20)\n",
      "Requirement already satisfied: Pygments==2.6.1 in /Users/alexandre/Projects/btc-2020/env-btc/lib/python3.7/site-packages (from -r ../../requirements.txt (line 45)) (2.6.1)\n",
      "Requirement already satisfied: pyparsing==2.4.7 in /Users/alexandre/Projects/btc-2020/env-btc/lib/python3.7/site-packages (from -r ../../requirements.txt (line 46)) (2.4.7)\n",
      "Requirement already satisfied: pyrsistent==0.16.0 in /Users/alexandre/Projects/btc-2020/env-btc/lib/python3.7/site-packages (from -r ../../requirements.txt (line 47)) (0.16.0)\n",
      "Requirement already satisfied: python-dateutil==2.8.1 in /Users/alexandre/Projects/btc-2020/env-btc/lib/python3.7/site-packages (from -r ../../requirements.txt (line 48)) (2.8.1)\n",
      "Requirement already satisfied: pytz==2020.1 in /Users/alexandre/Projects/btc-2020/env-btc/lib/python3.7/site-packages (from -r ../../requirements.txt (line 49)) (2020.1)\n"
     ]
    },
    {
     "name": "stdout",
     "output_type": "stream",
     "text": [
      "Requirement already satisfied: pyzmq==19.0.2 in /Users/alexandre/Projects/btc-2020/env-btc/lib/python3.7/site-packages (from -r ../../requirements.txt (line 50)) (19.0.2)\n",
      "Requirement already satisfied: qtconsole==4.7.5 in /Users/alexandre/Projects/btc-2020/env-btc/lib/python3.7/site-packages (from -r ../../requirements.txt (line 51)) (4.7.5)\n",
      "Requirement already satisfied: QtPy==1.9.0 in /Users/alexandre/Projects/btc-2020/env-btc/lib/python3.7/site-packages (from -r ../../requirements.txt (line 52)) (1.9.0)\n",
      "Requirement already satisfied: requests==2.24.0 in /Users/alexandre/Projects/btc-2020/env-btc/lib/python3.7/site-packages (from -r ../../requirements.txt (line 53)) (2.24.0)\n",
      "Requirement already satisfied: scikit-learn==0.20.0 in /Users/alexandre/Projects/btc-2020/env-btc/lib/python3.7/site-packages (from -r ../../requirements.txt (line 54)) (0.20.0)\n",
      "Requirement already satisfied: scipy==1.5.2 in /Users/alexandre/Projects/btc-2020/env-btc/lib/python3.7/site-packages (from -r ../../requirements.txt (line 55)) (1.5.2)\n",
      "Requirement already satisfied: Send2Trash==1.5.0 in /Users/alexandre/Projects/btc-2020/env-btc/lib/python3.7/site-packages (from -r ../../requirements.txt (line 56)) (1.5.0)\n",
      "Requirement already satisfied: six==1.15.0 in /Users/alexandre/Projects/btc-2020/env-btc/lib/python3.7/site-packages (from -r ../../requirements.txt (line 57)) (1.15.0)\n",
      "Requirement already satisfied: terminado==0.8.3 in /Users/alexandre/Projects/btc-2020/env-btc/lib/python3.7/site-packages (from -r ../../requirements.txt (line 58)) (0.8.3)\n",
      "Requirement already satisfied: testpath==0.4.4 in /Users/alexandre/Projects/btc-2020/env-btc/lib/python3.7/site-packages (from -r ../../requirements.txt (line 59)) (0.4.4)\n",
      "Requirement already satisfied: tornado==6.0.4 in /Users/alexandre/Projects/btc-2020/env-btc/lib/python3.7/site-packages (from -r ../../requirements.txt (line 60)) (6.0.4)\n",
      "Requirement already satisfied: traitlets==4.3.3 in /Users/alexandre/Projects/btc-2020/env-btc/lib/python3.7/site-packages (from -r ../../requirements.txt (line 61)) (4.3.3)\n",
      "Requirement already satisfied: urllib3==1.25.10 in /Users/alexandre/Projects/btc-2020/env-btc/lib/python3.7/site-packages (from -r ../../requirements.txt (line 62)) (1.25.10)\n",
      "Requirement already satisfied: wcwidth==0.2.5 in /Users/alexandre/Projects/btc-2020/env-btc/lib/python3.7/site-packages (from -r ../../requirements.txt (line 63)) (0.2.5)\n",
      "Requirement already satisfied: webencodings==0.5.1 in /Users/alexandre/Projects/btc-2020/env-btc/lib/python3.7/site-packages (from -r ../../requirements.txt (line 64)) (0.5.1)\n",
      "Requirement already satisfied: widgetsnbextension==3.5.1 in /Users/alexandre/Projects/btc-2020/env-btc/lib/python3.7/site-packages (from -r ../../requirements.txt (line 65)) (3.5.1)\n",
      "Requirement already satisfied: xgboost==1.1.1 in /Users/alexandre/Projects/btc-2020/env-btc/lib/python3.7/site-packages (from -r ../../requirements.txt (line 66)) (1.1.1)\n",
      "Requirement already satisfied: zipp==3.1.0 in /Users/alexandre/Projects/btc-2020/env-btc/lib/python3.7/site-packages (from -r ../../requirements.txt (line 67)) (3.1.0)\n",
      "Requirement already satisfied: seaborn==0.10.1 in /Users/alexandre/Projects/btc-2020/env-btc/lib/python3.7/site-packages (from -r ../../requirements.txt (line 123)) (0.10.1)\n",
      "Requirement already satisfied: plotly==4.9.0 in /Users/alexandre/Projects/btc-2020/env-btc/lib/python3.7/site-packages (from -r ../../requirements.txt (line 176)) (4.9.0)\n",
      "Requirement already satisfied: retrying==1.3.3 in /Users/alexandre/Projects/btc-2020/env-btc/lib/python3.7/site-packages (from -r ../../requirements.txt (line 190)) (1.3.3)\n",
      "Requirement already satisfied: lightgbm==2.3.1 in /Users/alexandre/Projects/btc-2020/env-btc/lib/python3.7/site-packages (from -r ../../requirements.txt (line 232)) (2.3.1)\n",
      "Requirement already satisfied: setuptools>=18.5 in /Users/alexandre/Projects/btc-2020/env-btc/lib/python3.7/site-packages (from ipython==7.17.0->-r ../../requirements.txt (line 16)) (41.2.0)\n",
      "\u001b[33mWARNING: You are using pip version 19.2.3, however version 20.2.2 is available.\n",
      "You should consider upgrading via the 'pip install --upgrade pip' command.\u001b[0m\n"
     ]
    }
   ],
   "source": [
    "# Primeiro, realizamos a instalação do scikit-learn versão 0.20.0 no Kernel deste notebook:\n",
    "!pip install -r ../../requirements.txt\n",
    "\n",
    "# Se você esta usando MacOS talvez precise instalar esta dependência\n",
    "#!brew install libomp"
   ]
  },
  {
   "cell_type": "code",
   "execution_count": 266,
   "metadata": {
    "pycharm": {
     "is_executing": false
    }
   },
   "outputs": [],
   "source": [
    "import json\n",
    "import requests\n",
    "import pandas as pd\n",
    "import numpy as np\n",
    "import warnings\n",
    "import xgboost as xgb\n",
    "\n",
    "from sklearn.impute import SimpleImputer\n",
    "from sklearn.model_selection import train_test_split, KFold, cross_validate\n",
    "from sklearn.metrics import accuracy_score, classification_report, confusion_matrix, precision_score, recall_score\n",
    "from sklearn.pipeline import Pipeline\n",
    "\n",
    "from sklearn.calibration import CalibratedClassifierCV\n",
    "from sklearn.ensemble import RandomForestClassifier\n",
    "from sklearn.linear_model import SGDClassifier\n",
    "from sklearn.linear_model import LogisticRegression\n",
    "from sklearn.naive_bayes import MultinomialNB\n",
    "from sklearn.neighbors import KNeighborsClassifier\n",
    "from sklearn.svm import LinearSVC, SVC\n",
    "from sklearn.tree import DecisionTreeClassifier\n",
    "\n",
    "from lightgbm import LGBMClassifier\n",
    "from xgboost import XGBClassifier\n",
    "\n",
    "warnings.filterwarnings('ignore')\n"
   ]
  },
  {
   "cell_type": "code",
   "execution_count": 267,
   "metadata": {
    "pycharm": {
     "is_executing": false
    },
    "scrolled": true
   },
   "outputs": [],
   "source": [
    "import pandas as pd\n",
    "\n",
    "df = pd.read_csv('/Users/alexandre/Projects/btc-2020/desafio-2-2020/cloud-pak-project-ptbr-2/assets/data_asset/dataset_desafio_2.csv')\n",
    "# df.head()"
   ]
  },
  {
   "cell_type": "code",
   "execution_count": 141,
   "metadata": {
    "pycharm": {
     "is_executing": false
    }
   },
   "outputs": [],
   "source": [
    "import matplotlib.pyplot as plt\n",
    "import seaborn as sns\n",
    "%matplotlib inline"
   ]
  },
  {
   "cell_type": "code",
   "execution_count": 229,
   "metadata": {
    "pycharm": {
     "is_executing": false
    }
   },
   "outputs": [],
   "source": [
    "from sklearn.base import BaseEstimator, TransformerMixin\n",
    "\n",
    "# All sklearn Transforms must have the `transform` and `fit` methods\n",
    "class DropColumns(BaseEstimator, TransformerMixin):\n",
    "    def __init__(self, columns):\n",
    "        self.columns = columns\n",
    "\n",
    "    def fit(self, X, y=None):\n",
    "        return self\n",
    "    \n",
    "    def transform(self, X):\n",
    "        # Primeiro realizamos a cópia do dataframe 'X' de entrada\n",
    "        data = X.copy()\n",
    "        # Retornamos um novo dataframe sem as colunas indesejadas\n",
    "        return data.drop(labels=self.columns, axis='columns')"
   ]
  },
  {
   "cell_type": "code",
   "execution_count": 268,
   "metadata": {
    "pycharm": {
     "is_executing": false
    }
   },
   "outputs": [],
   "source": [
    "# Instanciando uma transformação DropColumns\n",
    "rm_columns = DropColumns(\n",
    "    columns=[\n",
    "        \"NOME\",\n",
    "        \"NOTA_GO\",\n",
    "        \"INGLES\",\n",
    "        \"MATRICULA\"\n",
    "    ]  # Essa transformação recebe como parâmetro uma lista com os nomes das colunas indesejadas\n",
    ")\n"
   ]
  },
  {
   "cell_type": "code",
   "execution_count": 269,
   "metadata": {
    "pycharm": {
     "is_executing": false
    }
   },
   "outputs": [],
   "source": [
    "# Aplicando a transformação ``DropColumns`` ao conjunto de dados base\n",
    "rm_columns.fit(X=df)\n",
    "\n",
    "# Reconstruindo um DataFrame Pandas com o resultado da transformação\n",
    "df_data_2 = pd.DataFrame.from_records(\n",
    "    data=rm_columns.transform(\n",
    "        X=df\n",
    "    ),\n",
    ")"
   ]
  },
  {
   "cell_type": "code",
   "execution_count": 278,
   "metadata": {
    "pycharm": {
     "is_executing": false
    }
   },
   "outputs": [],
   "source": [
    "# Definição das colunas que serão features (nota-se que a coluna NOME não está presente)\n",
    "features = [\n",
    "    'REPROVACOES_DE', \n",
    "    'REPROVACOES_EM', \n",
    "    \"REPROVACOES_MF\", \n",
    "    \"REPROVACOES_GO\",\n",
    "    \"NOTA_DE\", \n",
    "    \"NOTA_EM\", \n",
    "    \"NOTA_MF\", \n",
    "    \"H_AULA_PRES\", \n",
    "    \"TAREFAS_ONLINE\", \n",
    "    \"FALTAS\", \n",
    "]\n",
    "\n",
    "# Definição da variável-alvo\n",
    "target = [\"PERFIL\"]\n",
    "\n",
    "# Preparação dos argumentos para os métodos da biblioteca ``scikit-learn``\n",
    "X = df_data_2[features]\n",
    "y = df_data_2[target]"
   ]
  },
  {
   "cell_type": "code",
   "execution_count": 258,
   "metadata": {
    "pycharm": {
     "is_executing": false
    }
   },
   "outputs": [],
   "source": [
    "# Separação dos dados em um conjunto de treino e um conjunto de teste\n",
    "X_train, X_test, y_train, y_test = train_test_split(X, y, test_size=0.2, random_state=337)"
   ]
  },
  {
   "cell_type": "code",
   "execution_count": 285,
   "metadata": {},
   "outputs": [
    {
     "data": {
      "image/png": "[encoded data removed]",
      "text/plain": [
       "<Figure size 432x288 with 1 Axes>"
      ]
     },
     "metadata": {
      "needs_background": "light"
     },
     "output_type": "display_data"
    }
   ],
   "source": [
    "# Método para rodar os classificadores\n",
    "def classify(classifier, X_train, y_train, X_test, y_test):\n",
    "  classifier_name = classifier.__class__.__name__\n",
    "\n",
    "  classifier.fit(X_train, y_train)\n",
    "  y_predict = classifier.predict(X_test)\n",
    "  \n",
    "  return [\n",
    "    classifier_name, \n",
    "    accuracy_score(y_test, y_predict),\n",
    "  ]\n",
    "\n",
    "classifiers = [\n",
    "    LinearSVC(),\n",
    "    MultinomialNB(),\n",
    "    SGDClassifier(loss=\"hinge\", penalty=\"l2\",alpha=1e-3, random_state=42, max_iter=5, tol=None),\n",
    "    LogisticRegression(random_state=0),\n",
    "    RandomForestClassifier(n_estimators=20, max_depth=10, random_state=0),\n",
    "    SVC(),\n",
    "    DecisionTreeClassifier(),\n",
    "    KNeighborsClassifier(n_neighbors=10),\n",
    "    XGBClassifier(),\n",
    "    LGBMClassifier(),\n",
    "]\n",
    "\n",
    "entries = [ \n",
    "  classify(classifier, X_train, y_train, X_test, y_test) for classifier in classifiers\n",
    "]\n",
    "\n",
    "# Conferindo qual Classificador objeteve melhor acurácia\n",
    "df_metrics = pd.DataFrame(entries, columns=[\"model_name\", \"accuracy_score\"])\n",
    "df_metrics.plot.scatter(y='model_name', x='accuracy_score', grid=True)\n",
    "plt.xlabel(\"Acurácia\")\n",
    "plt.ylabel(\"Nome do modelo\")\n",
    "plt.show()"
   ]
  },
  {
   "cell_type": "code",
   "execution_count": 346,
   "metadata": {
    "pycharm": {
     "is_executing": false
    }
   },
   "outputs": [
    {
     "name": "stdout",
     "output_type": "stream",
     "text": [
      "Acurácia: 82.0%\n",
      "              precision    recall  f1-score   support\n",
      "\n",
      " DIFICULDADE       0.90      0.74      0.81      1402\n",
      "      EXATAS       0.80      0.93      0.86      1629\n",
      "   EXCELENTE       0.68      0.66      0.67       145\n",
      "     HUMANAS       0.77      0.96      0.86       639\n",
      "   MUITO_BOM       0.40      0.04      0.08       185\n",
      "\n",
      "   micro avg       0.82      0.82      0.82      4000\n",
      "   macro avg       0.71      0.67      0.65      4000\n",
      "weighted avg       0.81      0.82      0.80      4000\n",
      "\n"
     ]
    }
   ],
   "source": [
    "## from sklearn.metrics import accuracy_score, classification_report\n",
    "\n",
    "# Criação da árvore de decisão com a biblioteca ``scikit-learn``:\n",
    "dtc_model = RandomForestClassifier(n_estimators=50, max_depth=10, random_state=42)\n",
    "# dtc_model = LGBMClassifier()\n",
    "# Treino do modelo (é chamado o método *fit()* com os conjuntos de treino)\n",
    "dtc_model.fit(X_train, y_train)\n",
    "\n",
    "# Realização de teste cego no modelo criado\n",
    "y_pred = dtc_model.predict(X_test)\n",
    "\n",
    "# Acurácia alcançada\n",
    "print(\"Acurácia: {}%\".format(100*round(accuracy_score(y_test, y_pred), 2)))\n",
    "print(classification_report(y_test, y_pred))"
   ]
  }
 ],
 "metadata": {
  "kernelspec": {
   "display_name": "Python 3",
   "language": "python",
   "name": "python3"
  },
  "language_info": {
   "codemirror_mode": {
    "name": "ipython",
    "version": 3
   },
   "file_extension": ".py",
   "mimetype": "text/x-python",
   "name": "python",
   "nbconvert_exporter": "python",
   "pygments_lexer": "ipython3",
   "version": "3.7.7"
  }
 },
 "nbformat": 4,
 "nbformat_minor": 1
}
